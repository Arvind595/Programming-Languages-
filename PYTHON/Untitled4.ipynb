{
 "cells": [
  {
   "cell_type": "code",
   "execution_count": 4,
   "metadata": {},
   "outputs": [
    {
     "name": "stdout",
     "output_type": "stream",
     "text": [
      "5\n",
      "3\n",
      "46\n",
      "82\n",
      "-52\n",
      "7\n",
      "Element After Sorting List in Ascending Order is :  [-52, 3, 7, 46, 82]\n"
     ]
    }
   ],
   "source": [
    "NumList = []\n",
    "Number = int(input())\n",
    "for i in range(1, Number + 1):\n",
    " value = int(input())\n",
    " NumList.append(value)\n",
    "for i in range (Number):\n",
    "    for j in range(i + 1, Number):\n",
    "         if(NumList[i] > NumList[j]):\n",
    "          temp=NumList[i]\n",
    "          NumList[i] = NumList[j]\n",
    "          NumList[j] = temp\n",
    "print(\"Element After Sorting List in Ascending Order is : \", NumList)\n"
   ]
  },
  {
   "cell_type": "code",
   "execution_count": 7,
   "metadata": {},
   "outputs": [
    {
     "name": "stdout",
     "output_type": "stream",
     "text": [
      "2\n",
      "51\n",
      "6\n",
      "51\n",
      "-1\n",
      "[51, 6, 51, 2]\n"
     ]
    }
   ],
   "source": [
    "def Reverse(lst):\n",
    " return [ele for ele in reversed(lst)]\n",
    "\n",
    "nums=[]\n",
    "out=[]\n",
    "number = int(input())\n",
    "while (number!=-1):\n",
    " nums.append(number)\n",
    " number = int(input())\n",
    "out=Reverse(nums)\n",
    "print(out)"
   ]
  },
  {
   "cell_type": "code",
   "execution_count": 8,
   "metadata": {},
   "outputs": [
    {
     "name": "stdout",
     "output_type": "stream",
     "text": [
      "Enter Radius :5\n",
      "78.5\n",
      "31.400000000000002\n"
     ]
    }
   ],
   "source": [
    "class Circle():\n",
    " def __init__(self, r):\n",
    "\n",
    "  self.radius = r\n",
    " def area(self):\n",
    "  return self.radius**2*3.14\n",
    "\n",
    " def perimeter(self):\n",
    "  return 2*self.radius*3.14\n",
    "rad = input (\"Enter Radius :\")\n",
    "r1=float(rad)\n",
    "NewCircle = Circle(r1)\n",
    "print(NewCircle.area())\n",
    "print(NewCircle.perimeter())"
   ]
  },
  {
   "cell_type": "code",
   "execution_count": 11,
   "metadata": {},
   "outputs": [
    {
     "name": "stdout",
     "output_type": "stream",
     "text": [
      "[[], [5], [4], [4, 5], [3], [3, 5], [3, 4], [3, 4, 5]]\n"
     ]
    }
   ],
   "source": [
    "class py_solution:\n",
    " def sub_sets(self, sset):\n",
    "  return self.subsetsRecur([], sorted(sset))\n",
    "\n",
    " def subsetsRecur(self, current, sset):\n",
    "  if sset:\n",
    "   return self.subsetsRecur(current, sset[1:]) + self.subsetsRecur(current + [sset[0]], sset[1:])\n",
    "  return [current]\n",
    "print(py_solution().sub_sets([3,4,5]))"
   ]
  },
  {
   "cell_type": "code",
   "execution_count": 15,
   "metadata": {},
   "outputs": [
    {
     "name": "stdout",
     "output_type": "stream",
     "text": [
      "True\n",
      "False\n"
     ]
    }
   ],
   "source": [
    "class py_solution:\n",
    " def is_valid_parenthese(self, str1):\n",
    "  stack, pchar = [], {\"(\": \")\", \"{\": \"}\", \"[\": \"]\"}\n",
    "  for parenthese in str1:\n",
    "   if parenthese in pchar:\n",
    "    stack.append(parenthese)\n",
    "   elif len(stack) == 0 or pchar[stack.pop()] != parenthese:\n",
    "    return False\n",
    "  return len(stack) == 0\n",
    "print(py_solution().is_valid_parenthese(\"()[]\"))\n",
    "print(py_solution().is_valid_parenthese(\"()[{})}\"))\n"
   ]
  },
  {
   "cell_type": "code",
   "execution_count": 16,
   "metadata": {},
   "outputs": [
    {
     "name": "stdout",
     "output_type": "stream",
     "text": [
      "Enter the stringPyThoN\n",
      "pYtHOn\n"
     ]
    }
   ],
   "source": [
    "class IOString():\n",
    " def __init__(self):\n",
    "  self.str1 = \"\"\n",
    " def get_String(self):\n",
    "  self.str1 = input(\"Enter the string\")\n",
    " def print_String(self):\n",
    "  print(self.str1.swapcase())\n",
    "str1 = IOString()\n",
    "str1.get_String()\n",
    "str1.print_String()"
   ]
  },
  {
   "cell_type": "code",
   "execution_count": 17,
   "metadata": {},
   "outputs": [
    {
     "name": "stdout",
     "output_type": "stream",
     "text": [
      "Enter length22.3\n",
      "Enter width15.62\n",
      "348.326\n"
     ]
    }
   ],
   "source": [
    "class Rectangle():\n",
    " def __init__(self, l, w):\n",
    "  self.length = l\n",
    "  self.width = w\n",
    " def rectangle_area(self):\n",
    "  return self.length*self.width\n",
    "l1=float(input(\"Enter length\"))\n",
    "w1=float(input(\"Enter width\"))\n",
    "newRectangle = Rectangle(l1,w1)\n",
    "print(newRectangle.rectangle_area())"
   ]
  },
  {
   "cell_type": "code",
   "execution_count": 20,
   "metadata": {},
   "outputs": [
    {
     "name": "stdout",
     "output_type": "stream",
     "text": [
      "Assignment: 3\n",
      "Name:  Aravind.M\n",
      "USN:  1cr17ec031\n",
      "time.struct_time(tm_year=2020, tm_mon=5, tm_mday=16, tm_hour=12, tm_min=58, tm_sec=58, tm_wday=5, tm_yday=137, tm_isdst=0)\n"
     ]
    }
   ],
   "source": [
    "#Assignment\n",
    "import time\n",
    "name=\"Aravind.M\"\n",
    "usn=\"1cr17ec031\"\n",
    "print(\"Assignment: 3\")\n",
    "print(\"Name: \",name)\n",
    "print(\"USN: \",usn)\n",
    "print(time.localtime())"
   ]
  },
  {
   "cell_type": "code",
   "execution_count": null,
   "metadata": {},
   "outputs": [],
   "source": []
  }
 ],
 "metadata": {
  "kernelspec": {
   "display_name": "Python 3",
   "language": "python",
   "name": "python3"
  },
  "language_info": {
   "codemirror_mode": {
    "name": "ipython",
    "version": 3
   },
   "file_extension": ".py",
   "mimetype": "text/x-python",
   "name": "python",
   "nbconvert_exporter": "python",
   "pygments_lexer": "ipython3",
   "version": "3.7.1"
  }
 },
 "nbformat": 4,
 "nbformat_minor": 4
}
