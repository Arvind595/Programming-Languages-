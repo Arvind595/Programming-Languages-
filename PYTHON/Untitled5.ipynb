{
 "cells": [
  {
   "cell_type": "code",
   "execution_count": 143,
   "metadata": {},
   "outputs": [
    {
     "name": "stdout",
     "output_type": "stream",
     "text": [
      "re-arranging:\n",
      "ol:  [2, 7]\n",
      "el:  [4]\n",
      "the primes are:  [2, 3, 5, 7]\n",
      "the squares are:  [1, 4]\n",
      "prime in el: False /prime in ol: True /squ in el: True /squ in ol: False\n",
      "input sequence is: [2, 4, 7] True\n"
     ]
    }
   ],
   "source": [
    "# -*- coding: utf-8 -*-\n",
    "\"\"\"\n",
    "Created on Wed May 20 10:08:04 2020\n",
    "\n",
    "@author: Aravind\n",
    "\"\"\"\n",
    "\n",
    "'''To write a Python function squareprime(l [list]) that takes a nonempty list of integers and returns True \n",
    "if the elements of l [list] alternate between perfect squares and prime numbers, and returns False otherwise.'''\n",
    "\n",
    "#generates square number in a list\n",
    "def squaretest(num):\n",
    "    sqlist=[]\n",
    "    i=1\n",
    "    while i**2 <= num:\n",
    "        sqlist.append(i**2)\n",
    "        i+=1\n",
    "    print(\"the squares are: \",sqlist)\n",
    "    return sqlist\n",
    "\n",
    "#generates primenumbers in a list\n",
    "def primecheck(num):\n",
    "    primelist=[]\n",
    "    for i in range(2,num + 1):\n",
    "        for p in range(2,i):\n",
    "            if (i % p) == 0:\n",
    "                break\n",
    "        else:\n",
    "            primelist.append(i)\n",
    "    print(\"the primes are: \",primelist)         \n",
    "    return primelist\n",
    "\n",
    "#checks the sequence\n",
    "def primesquare(l):\n",
    "    if len(l)==1:\n",
    "        primelist = primecheck(l[0])\n",
    "        sqlist = squaretest(l[0])\n",
    "        \n",
    "        #check if it is present in generated list\n",
    "        print(\"prime check: \",l[0] in primelist)\n",
    "        print(\"square check: \",l[0] in sqlist)\n",
    "        #any one is true for result\n",
    "        return (l[0] in primelist) or (l[0] in sqlist)\n",
    "    \n",
    "    else:\n",
    "        ol=[]#to store even places\n",
    "        el=[]#to store odd places\n",
    "        \n",
    "        print(\"re-arranging:\")\n",
    "        #copy even places to ol\n",
    "        for i in range(0,len(l),2):\n",
    "            ol.append(l[i])\n",
    "        print(\"ol: \",ol)\n",
    "        \n",
    "        #copy odd places to el\n",
    "        for p in range (1, len(l),2):\n",
    "            el.append(l[p])\n",
    "        print(\"el: \",el)\n",
    "        \n",
    "        #generate squares and primes\n",
    "        primelist = primecheck(max(l))\n",
    "        sqlist = squaretest(max(l))\n",
    "        \n",
    "        #checking if the numbers are valid to prime and sq list\n",
    "        p_el=all(x in primelist for x in el)\n",
    "        p_ol=all(x in primelist for x in ol)\n",
    "        s_el=all(y in sqlist for y in el)\n",
    "        s_ol=all(y in sqlist for y in ol)\n",
    "        check=((p_el == True and s_ol== True) or (s_el == True and p_ol== True  ))\n",
    "        \n",
    "        print('prime in el:',p_el,'/prime in ol:',p_ol,'/squ in el:',s_el,'/squ in ol:',s_ol)\n",
    "        \n",
    "        return check\n",
    "#input\n",
    "data=[2,4,7]\n",
    "print(\"input sequence is:\",data,primesquare(data)) "
   ]
  },
  {
   "cell_type": "code",
   "execution_count": 129,
   "metadata": {},
   "outputs": [
    {
     "name": "stdout",
     "output_type": "stream",
     "text": [
      "[1, 4, 9, 16, 25, 36, 49, 64, 81, 100]\n"
     ]
    }
   ],
   "source": [
    "def squaretest(num):\n",
    "    sqlist=[]\n",
    "    i=1\n",
    "    while i**2 <= num:\n",
    "        sqlist.append(i**2) #index starting at 0\n",
    "        i+=1\n",
    "    return sqlist\n",
    "print(squaretest(100))"
   ]
  },
  {
   "cell_type": "code",
   "execution_count": 128,
   "metadata": {},
   "outputs": [
    {
     "name": "stdout",
     "output_type": "stream",
     "text": [
      "[2, 3, 5, 7, 11, 13, 17, 19, 23, 29, 31, 37, 41, 43, 47, 53, 59, 61, 67, 71, 73, 79, 83, 89, 97]\n"
     ]
    }
   ],
   "source": [
    "#generates primenumbers in a list\n",
    "def primecheck(num):\n",
    "    primelist=[]\n",
    "    for i in range(2,num + 1):\n",
    "        for p in range(2,i):\n",
    "            if (i % p) == 0:\n",
    "                break\n",
    "        else:\n",
    "            primelist.append(i)\n",
    "    return primelist\n",
    "print(primecheck(100))"
   ]
  },
  {
   "cell_type": "code",
   "execution_count": null,
   "metadata": {},
   "outputs": [],
   "source": [
    "#some inputs\n",
    "\"\"\"\n",
    "print(primesquare([4,5,16,101,64])) \n",
    "print(primesquare([5,16,101,36,27]))\n",
    "print(primesquare([1,4,7]))\n",
    "print(primesquare([1,5,16,17,25]))\n",
    "print(primesquare([4,5,16,101]))\n",
    "print(primesquare([8,5,16,101]))\n",
    "\n",
    "\"\"\"\n"
   ]
  },
  {
   "cell_type": "code",
   "execution_count": 65,
   "metadata": {},
   "outputs": [
    {
     "name": "stdout",
     "output_type": "stream",
     "text": [
      "[0, 2, 4, 6, 8]\n"
     ]
    }
   ],
   "source": [
    "l=[0,1,2,3,4,5,6,7,8]\n",
    "ol=[]\n",
    "for i in range(0,len(l),2):\n",
    "    ol.append(l[i])\n",
    "print(ol)"
   ]
  },
  {
   "cell_type": "code",
   "execution_count": 146,
   "metadata": {},
   "outputs": [
    {
     "name": "stdout",
     "output_type": "stream",
     "text": [
      "0\n",
      "1\n",
      "4\n"
     ]
    }
   ],
   "source": [
    "primelist=[2, 3, 5, 7]\n",
    "el=[1, 4]\n",
    "x in primelist \n",
    "print(x)\n",
    "for x in el:\n",
    "    print(x)"
   ]
  },
  {
   "cell_type": "code",
   "execution_count": null,
   "metadata": {},
   "outputs": [],
   "source": []
  }
 ],
 "metadata": {
  "kernelspec": {
   "display_name": "Python 3",
   "language": "python",
   "name": "python3"
  },
  "language_info": {
   "codemirror_mode": {
    "name": "ipython",
    "version": 3
   },
   "file_extension": ".py",
   "mimetype": "text/x-python",
   "name": "python",
   "nbconvert_exporter": "python",
   "pygments_lexer": "ipython3",
   "version": "3.7.1"
  }
 },
 "nbformat": 4,
 "nbformat_minor": 4
}
