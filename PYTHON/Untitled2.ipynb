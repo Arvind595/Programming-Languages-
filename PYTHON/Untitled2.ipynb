{
 "cells": [
  {
   "cell_type": "code",
   "execution_count": 4,
   "metadata": {},
   "outputs": [
    {
     "name": "stdout",
     "output_type": "stream",
     "text": [
      "number of lines is 20\n"
     ]
    }
   ],
   "source": [
    "file = open(\"C:\\\\Users\\\\Aravind Anirudh\\\\Desktop\\\\LOG.TXT\",\"r\") \n",
    "count=0\n",
    "data=file.read()\n",
    "c_list=data.split(\"\\n\")\n",
    "for i in c_list:\n",
    "    if i:\n",
    "        count+=1\n",
    "print(\"number of lines is\",count)"
   ]
  },
  {
   "cell_type": "code",
   "execution_count": 8,
   "metadata": {},
   "outputs": [
    {
     "name": "stdout",
     "output_type": "stream",
     "text": [
      "\n",
      "16,18:27:20,31.75,31.30,58.00\n",
      "16,18:27:30,31.75,31.20,57.00\n",
      "16,18:27:40,32.00,31.30,58.00\n",
      "16,18:28:10,32.25,31.40,58.00\n",
      "16,18:28:20,32.25,31.50,57.00\n",
      "16,18:28:30,33.25,31.50,56.00\n",
      "16,18:28:40,33.25,31.60,56.00\n",
      "16,18:28:50,32.65,31.60,55.00\n",
      "16,18:29:10,33.05,31.00,55.00\n",
      "16,18:29:20,33.00.31.70,56.00\n",
      "16,18:29:30,32.10.32.00,57.00\n",
      "16,18:29:40,31.10.32.00,57.00\n",
      "16,18:29:50,32.20.31.10,56.00\n",
      "16,18:30:10,31.20.32.20,58.00\n",
      "16,18:30:20,33.50.31.80,56.00\n",
      "16,18:30:30,32.40.33.50,60.00\n",
      "16,18:30:40,31.30.33.30,57.00\n",
      "16,18:30:40,32.80.33.80,70.00\n",
      "16,18:30:50,33.60.32.20,80.00\n",
      "16,18:31:10,32.60.31.70,83.00\n",
      "\n"
     ]
    }
   ],
   "source": [
    "#copying data from one file to another\n",
    "with open(r\"C:\\Users\\Aravind Anirudh\\Desktop\\LOG2.TXT\",\"a\") as file1:\n",
    "    with open(r\"C:\\Users\\Aravind Anirudh\\Desktop\\LOG.TXT\",\"r\") as file2:\n",
    "        data=file2.read()\n",
    "        c_list=data.split(\"\\t\")\n",
    "        file1.write(\"\\n\")\n",
    "        file1.writelines(data)\n",
    "with open(r\"C:\\Users\\Aravind Anirudh\\Desktop\\LOG2.TXT\",\"r\") as file1:\n",
    "    print(file1.read())"
   ]
  },
  {
   "cell_type": "code",
   "execution_count": 10,
   "metadata": {},
   "outputs": [
    {
     "name": "stdout",
     "output_type": "stream",
     "text": [
      "vowels is: 186 consonant is: 266\n"
     ]
    }
   ],
   "source": [
    "#counting vowels and consonant in file\n",
    "file =open (r\"C:\\Users\\Aravind Anirudh\\Desktop\\example.txt\",\"r\")\n",
    "v=set(\"AEIOUaeiou\")\n",
    "cons=(\"bcdfghjklmnpqrstvwxyzBCDFGHJKLMNPQRSTVWXYZ\")\n",
    "vowels=0\n",
    "conso=0\n",
    "for c in file.read():\n",
    "    if c in v:\n",
    "        vowels+=1\n",
    "    elif c in cons:\n",
    "        conso+=1\n",
    "print(\"vowels is:\",vowels,\"consonant is:\",conso)"
   ]
  },
  {
   "cell_type": "code",
   "execution_count": 11,
   "metadata": {},
   "outputs": [
    {
     "name": "stdout",
     "output_type": "stream",
     "text": [
      ".derevocer ecnis evah elpoep ]4[005,151 naht eroM .shtaed ]4[005,33 yletamixorppa ni gnitluser ,seirotirret dna seirtnuoc 091 revo ni detroper neeb evah 91-DIVOC fo sesac ]4[000,227 naht erom ,0202 hcraM 03 fo sA ]8[]7[.hcraM 11 no cimednap a sa ti dezingocer dna 0202 yraunaJ 03 no nrecnoC lanoitanretnI fo ycnegremE htlaeH cilbuP a eb ot kaerbtuo eht deralced )OHW( noitazinagrO htlaeH dlroW ehT .9102 rebmeceD ni ,anihC ,iebuH ,nahuW ni deifitnedi tsrif saw kaerbtuo ehT ]6[.)2-VoC-SRAS( 2 surivanoroc emordnys yrotaripser etuca ereves yb desuac ,)91-DIVOC( 9102 esaesid surivanoroc fo cimednap gniogno na si cimednap surivanoroc 02“€â9102 ehT\n"
     ]
    }
   ],
   "source": [
    "#reversing contents in file\n",
    "file=open(r\"C:\\Users\\Aravind Anirudh\\Desktop\\example.txt\",\"r\")\n",
    "data=file.read()\n",
    "print(data[::-1])"
   ]
  },
  {
   "cell_type": "code",
   "execution_count": 15,
   "metadata": {},
   "outputs": [
    {
     "name": "stdout",
     "output_type": "stream",
     "text": [
      "1 The 2019â€“20 coronavirus pandemic is an ongoing pandemic of coronavirus disease 2019 (COVID-19),\n",
      "2  caused by severe acute respiratory syndrome coronavirus 2 (SARS-CoV-2).\n",
      "3  The outbreak was first identified in Wuhan, Hubei, China, in December 2019.\n",
      "4  The World Health Organization (WHO) declared the outbreak to be a Public Health Emergency of International Concern on 30 January 2020 and recognized it as a pandemic on 11 March.\n",
      "5  As of 30 March 2020, more than 722,000[4] cases of COVID-19 have been reported in over 190 countries and territories, resulting in approximately 33,500 deaths.\n",
      "6  More than 151,500 people have since recovered.\n"
     ]
    }
   ],
   "source": [
    "#printing file contents with line numbers\n",
    "file=open(r\"C:\\Users\\Aravind Anirudh\\Desktop\\example.txt\",\"r\")\n",
    "data=file.read()\n",
    "pa=1\n",
    "c_list=data.split(\"\\n\")\n",
    "for i in c_list:\n",
    "    print(pa,i)\n",
    "    pa+=1"
   ]
  },
  {
   "cell_type": "code",
   "execution_count": 4,
   "metadata": {},
   "outputs": [
    {
     "name": "stdout",
     "output_type": "stream",
     "text": [
      "enter the number of elements:5\n",
      "enter element: 1\n",
      "enter element: 2\n",
      "enter element: 3\n",
      "enter element: 4\n",
      "enter element: 5\n",
      "largest is: 5\n"
     ]
    }
   ],
   "source": [
    "#largest number in list\n",
    "lst=[]\n",
    "num=int(input(\"enter the number of elements:\"))\n",
    "for i in range(1,num+1):\n",
    "    element=int(input(\"enter element: \"))\n",
    "    lst.append(element)\n",
    "print(\"largest is:\",max(lst))"
   ]
  },
  {
   "cell_type": "code",
   "execution_count": 6,
   "metadata": {},
   "outputs": [
    {
     "name": "stdout",
     "output_type": "stream",
     "text": [
      "enter the number of elements: 5\n",
      "enter element: 1\n",
      "enter element: 2\n",
      "enter element: 2\n",
      "enter element: 3\n",
      "enter element: 6\n",
      "[1, 2, 3, 6]\n"
     ]
    }
   ],
   "source": [
    "#removing duplicates in list\n",
    "lst=[]\n",
    "n_lst=[]\n",
    "\n",
    "num=int(input(\"enter the number of elements: \"))\n",
    "for i in range(1,num+1):\n",
    "    element=int(input(\"enter element: \"))\n",
    "    lst.append(element)\n",
    "for i in lst:\n",
    "    if i not in n_lst:\n",
    "        n_lst.append(i)\n",
    "print (n_lst)"
   ]
  },
  {
   "cell_type": "code",
   "execution_count": 8,
   "metadata": {},
   "outputs": [
    {
     "name": "stdout",
     "output_type": "stream",
     "text": [
      "Enter number of elements in list1 : 4\n",
      "Enter elements: 1\n",
      "Enter elements: 2\n",
      "Enter elements: 3\n",
      "Enter elements: 4\n",
      "Enter number of elements in list2: 4\n",
      "Enter elements: 4\n",
      "Enter elements: 5\n",
      "Enter elements: 6\n",
      "Enter elements: 9\n"
     ]
    },
    {
     "data": {
      "text/plain": [
       "'True'"
      ]
     },
     "execution_count": 8,
     "metadata": {},
     "output_type": "execute_result"
    }
   ],
   "source": [
    "#common element in lists\n",
    "def common(l1, l2):\n",
    "    cnt = 0\n",
    "    for i in l1:\n",
    "        if i in l2:\n",
    "            cnt +=1\n",
    "    if cnt == 1:\n",
    "        return \"True\"\n",
    "\n",
    "l1 = []\n",
    "l2 = []\n",
    "\n",
    "num = int(input(\"Enter number of elements in list1 : \")) \n",
    " \n",
    "# appending elements in list \n",
    "for i in range(1, num + 1): \n",
    "    ele = int(input(\"Enter elements: \")) \n",
    "    l1.append(ele) \n",
    "\n",
    "num = int(input(\"Enter number of elements in list2: \")) \n",
    "  \n",
    "# appending elements in list \n",
    "for i in range(1, num + 1): \n",
    "    ele = int(input(\"Enter elements: \")) \n",
    "    l2.append(ele) \n",
    "\n",
    "common(l1,l2)"
   ]
  },
  {
   "cell_type": "code",
   "execution_count": 9,
   "metadata": {},
   "outputs": [
    {
     "name": "stdout",
     "output_type": "stream",
     "text": [
      "Enter number of elements in list1 : 4\n",
      "Enter elements: 1\n",
      "Enter elements: 2\n",
      "Enter elements: 3\n",
      "Enter elements: 4\n"
     ]
    },
    {
     "data": {
      "text/plain": [
       "[1, 3]"
      ]
     },
     "execution_count": 9,
     "metadata": {},
     "output_type": "execute_result"
    }
   ],
   "source": [
    "# removing even numbers from list.\n",
    "\n",
    "def rem_even(l1):\n",
    "    for i in l1:\n",
    "        if(i%2 == 0):\n",
    "            l1.remove(i)\n",
    "\n",
    "    return l1\n",
    "\n",
    "l1 = []\n",
    "num = int(input(\"Enter number of elements in list1 : \")) \n",
    " \n",
    "# appending elements in list \n",
    "for i in range(1, num + 1): \n",
    "    ele = int(input(\"Enter elements: \")) \n",
    "    l1.append(ele) \n",
    "\n",
    "rem_even(l1)"
   ]
  },
  {
   "cell_type": "code",
   "execution_count": 10,
   "metadata": {},
   "outputs": [
    {
     "name": "stdout",
     "output_type": "stream",
     "text": [
      "The first five elements are :  [1, 4, 9, 16, 25]\n",
      "The last five elements are :  [676, 729, 784, 841, 900]\n"
     ]
    }
   ],
   "source": [
    "# Python program to generate and print a list of first and last 5 elements\n",
    "# where the values are square of numbers between 1 and 30 (both included).\n",
    "\n",
    "def str_sqr(l):\n",
    "    for i in range(1,31):\n",
    "        l.append(i*i)\n",
    "    return l\n",
    "\n",
    "l = []\n",
    "print(\"The first five elements are : \", str_sqr(l)[:5:1])\n",
    "print(\"The last five elements are : \", str_sqr(l)[-5::1])"
   ]
  },
  {
   "cell_type": "code",
   "execution_count": 14,
   "metadata": {},
   "outputs": [
    {
     "name": "stdout",
     "output_type": "stream",
     "text": [
      "Enter number of elements in list : 3\n",
      "Enter elements: 1\n",
      "Enter elements: 2\n",
      "Enter elements: 3\n",
      "[1, 2, 3]\n",
      "[1, 3, 2]\n",
      "[2, 1, 3]\n",
      "[2, 3, 1]\n",
      "[3, 2, 1]\n",
      "[3, 1, 2]\n"
     ]
    }
   ],
   "source": [
    "# Python program to generate all permutations of a list in Python.\n",
    "\n",
    "def permute(lst , st, end):\n",
    "    if len(lst) == 0:\n",
    "        return (\"Empty List!\")\n",
    "    elif len(lst) == 1:\n",
    "        return (\"Only one possible permutation, i.e \", lst, \" itself!!\")\n",
    "    else:\n",
    "        if st == end:\n",
    "            return print(lst)\n",
    "        else:\n",
    "            for i in range(st , end+1):\n",
    "                lst[st], lst[i] =  lst[i], lst[st]\n",
    "                permute(lst, st+1, end)\n",
    "                lst[st], lst[i] =  lst[i], lst[st]\n",
    "                \n",
    "l = []                \n",
    "n = int(input(\"Enter number of elements in list : \")) \n",
    " \n",
    "# appending elements in list \n",
    "for i in range(1, n + 1): \n",
    "    ele = int(input(\"Enter elements: \")) \n",
    "    l.append(ele) \n",
    "\n",
    "permute(l, 0, n-1)"
   ]
  },
  {
   "cell_type": "code",
   "execution_count": 15,
   "metadata": {},
   "outputs": [
    {
     "name": "stdout",
     "output_type": "stream",
     "text": [
      "Enter number of elements in list1 : 3\n",
      "Enter elements: 2\n",
      "Enter elements: 3\n",
      "Enter elements: 1\n",
      "Enter number of elements in list2 : 4\n",
      "Enter elements: 2\n",
      "Enter elements: 31\n",
      "Enter elements: 2\n",
      "Enter elements: 2\n",
      "[2, 31, 2, 2, 3, 1]\n"
     ]
    }
   ],
   "source": [
    "# Python program to append a list to the second list.\n",
    "\n",
    "l1 = []\n",
    "l2 = []\n",
    "n1 = int(input(\"Enter number of elements in list1 : \")) \n",
    " \n",
    "for i in range(1, n1 + 1): \n",
    "    ele1 = int(input(\"Enter elements: \")) \n",
    "    l1.append(ele1) \n",
    "\n",
    "n2 = int(input(\"Enter number of elements in list2 : \")) \n",
    " \n",
    "for i in range(1, n2 + 1): \n",
    "    ele2 = int(input(\"Enter elements: \")) \n",
    "    l2.append(ele2) \n",
    "    \n",
    "for i in l1:\n",
    "    if i not in l2:\n",
    "        l2.append(i)\n",
    "print(l2)"
   ]
  },
  {
   "cell_type": "code",
   "execution_count": 17,
   "metadata": {},
   "outputs": [
    {
     "name": "stdout",
     "output_type": "stream",
     "text": [
      "Enter number of elements in list : 4\n",
      "Enter elements: 2\n",
      "Enter elements: 2\n",
      "Enter elements: 3\n",
      "Enter elements: 1\n",
      "[1, 2, 2, 3]\n",
      "[1, 2, 1]\n"
     ]
    }
   ],
   "source": [
    "# Python program to get the frequency of the elements in a list.\n",
    "\n",
    "from itertools import groupby        #importing itertools library\n",
    "\n",
    "def freq(lst):\n",
    "    lst = sorted(lst, key = lambda x: int(x), reverse = False) #sorting before using groupby\n",
    "    print(lst)\n",
    "    f_lst = [len(list(group)) for key, group in groupby(lst)]\n",
    "    return f_lst\n",
    "\n",
    "l = []\n",
    "n = int(input(\"Enter number of elements in list : \")) \n",
    " \n",
    "for i in range(1, n + 1): \n",
    "    ele = int(input(\"Enter elements: \")) \n",
    "    l.append(ele) \n",
    "    \n",
    "print(freq(l))"
   ]
  },
  {
   "cell_type": "code",
   "execution_count": 18,
   "metadata": {},
   "outputs": [
    {
     "name": "stdout",
     "output_type": "stream",
     "text": [
      "{('a', 'z'): 2, ('b', 'w'): 3}\n"
     ]
    }
   ],
   "source": [
    "# Python program to find the repeated items of a tuple.\n",
    "\n",
    "def cnt(Tp): \n",
    "    count = {} \n",
    "    for i in Tp: \n",
    "        count[i] = count.get(i,0) +1\n",
    "    print(count) \n",
    "  \n",
    "Tp = [('a', 'z'), ('b', 'w'), ('b', 'w'),  \n",
    "               ('a', 'z'), ('b', 'w')]  \n",
    "  \n",
    "cnt(Tp)"
   ]
  },
  {
   "cell_type": "code",
   "execution_count": 20,
   "metadata": {},
   "outputs": [
    {
     "name": "stdout",
     "output_type": "stream",
     "text": [
      "{'sewag': 50, 'kohli': 12, 'anil': 14, 'Mahendra': 20, 'shreyas': 25, 'dhoni': 30}\n"
     ]
    }
   ],
   "source": [
    "# Python program to convert a tuple to a dictionary.\n",
    "\n",
    "def conv(tup, dic): \n",
    "    dic = dict(tup)    #use of dict() method\n",
    "    return dic \n",
    "      \n",
    "tp = [(\"sewag\", 50), (\"kohli\", 12), (\"anil\", 14),  \n",
    "    (\"Mahendra\", 20), (\"shreyas\", 25), (\"dhoni\", 30)] \n",
    "dt = {} \n",
    "print (conv(tp, dt))"
   ]
  },
  {
   "cell_type": "code",
   "execution_count": 22,
   "metadata": {},
   "outputs": [
    {
     "name": "stdout",
     "output_type": "stream",
     "text": [
      "(1, 9, 13, 18, 118, 1)\n"
     ]
    }
   ],
   "source": [
    "# Python program to reverse a tuple.\n",
    "\n",
    "def rev(tp): \n",
    "    new_tp = () \n",
    "    for k in reversed(tp): \n",
    "        new_tp = new_tp + (k,) \n",
    "    print (new_tp)\n",
    "  \n",
    "tp1 = (1, 118, 18, 13, 9, 1) \n",
    "rev(tp1) "
   ]
  },
  {
   "cell_type": "code",
   "execution_count": 23,
   "metadata": {},
   "outputs": [
    {
     "name": "stdout",
     "output_type": "stream",
     "text": [
      "[(10, 11, 100), (12, 13, 100), (14, 15, 100)]\n"
     ]
    }
   ],
   "source": [
    "# Python program to replace last value of tuples in a list.\n",
    "\n",
    "def md_lv(tp):\n",
    "    tp = [t[:-1] + (100,) for t in tp]     #tuple slicing\n",
    "    print(tp)\n",
    "\n",
    "tp1 = ((10,11,7),(12,13,8),(14,15,9))\n",
    "md_lv(tp1)"
   ]
  },
  {
   "cell_type": "code",
   "execution_count": 25,
   "metadata": {},
   "outputs": [
    {
     "name": "stdout",
     "output_type": "stream",
     "text": [
      "[('maths', 50.65), ('english', 30.5), ('chemi', 25.92), ('kannada', 20.78), ('physics', 14.41), ('Science', 12.44)]\n"
     ]
    }
   ],
   "source": [
    "# Python program to sort a tuple by its float element.\n",
    "\n",
    "def Sort(tp):\n",
    "    return (sorted(tp, key = lambda x: float(x[1]), reverse = True))\n",
    "\n",
    "#using sorted() function\n",
    "\n",
    "tp = [('maths', 50.65), ('Science', 12.44), ('physics', 14.41),  \n",
    "    ('kannada', 20.78), ('chemi', 25.92), ('english', 30.50)] \n",
    "print(Sort(tp))"
   ]
  },
  {
   "cell_type": "code",
   "execution_count": null,
   "metadata": {},
   "outputs": [],
   "source": []
  }
 ],
 "metadata": {
  "kernelspec": {
   "display_name": "Python 3",
   "language": "python",
   "name": "python3"
  }
 },
 "nbformat": 4,
 "nbformat_minor": 4
}
