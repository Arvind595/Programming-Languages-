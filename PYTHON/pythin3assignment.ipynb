{
 "cells": [
  {
   "cell_type": "code",
   "execution_count": 6,
   "metadata": {},
   "outputs": [
    {
     "name": "stdout",
     "output_type": "stream",
     "text": [
      "Enter no of heads: 8\n",
      "Enter no of legs: 18\n",
      "Chicken: 7  Rabbits: 1\n"
     ]
    }
   ],
   "source": [
    "#1) Chinese puzzle\n",
    "\"\"\"\n",
    "We count n heads and m legs among the chickens and rabbits in a farm.\n",
    "How many rabbits and how many chickens do we have?\n",
    "\"\"\"\n",
    "numheads=int(input(\"Enter no of heads: \"))\n",
    "numlegs=int(input(\"Enter no of legs: \"))\n",
    "for i in range(numheads+1):\n",
    " j=numheads-i\n",
    " if 2*i+4*j==numlegs:\n",
    "     print(\"Chicken:\",i,\" Rabbits:\",j)\n",
    "     break\n",
    "else:\n",
    " print(\"No Solution!\")"
   ]
  },
  {
   "cell_type": "code",
   "execution_count": 9,
   "metadata": {},
   "outputs": [
    {
     "name": "stdout",
     "output_type": "stream",
     "text": [
      "Enter Transaction:D 300\n",
      "Enter Transaction:W 100\n",
      "Enter Transaction:\n",
      "200\n"
     ]
    }
   ],
   "source": [
    "# Transaction log program\n",
    "\"\"\"\n",
    "2) Write a program that computes the net amount of a bank account based a transac\n",
    "The transaction log format is shown as following:\n",
    "D 100\n",
    "W 200\n",
    "\"\"\"\n",
    "netAmount = 0\n",
    "while True:\n",
    " s = input(\"Enter Transaction:\")\n",
    " if not s:\n",
    "     break\n",
    " values = s.split(\" \")\n",
    " operation = values[0]\n",
    " amount = int(values[1])\n",
    " if operation==\"D\":\n",
    "     netAmount+=amount\n",
    " elif operation==\"W\":\n",
    "     netAmount-=amount\n",
    " else:\n",
    "     pass\n",
    "print (netAmount)"
   ]
  },
  {
   "cell_type": "code",
   "execution_count": 10,
   "metadata": {},
   "outputs": [
    {
     "name": "stdout",
     "output_type": "stream",
     "text": [
      "200,202,204,206,208,220,222,224,226,228,240,242,244,246,248,260,262,264,266,268,280,282,284,286,288,400\n"
     ]
    }
   ],
   "source": [
    "# Even Number Sequence Program\n",
    "\"\"\"\n",
    "3)Write a Python program to find numbers between 100 and 400 (both included) wher\n",
    "of a number is an even number. The numbers obtained should be printed in a comma\n",
    "\"\"\"\n",
    "items = []\n",
    "for i in range(100, 401):\n",
    " s = str(i)\n",
    " if (int(s[0])%2==0) and (int(s[1])%2==0) and (int(s[2])%2==0):\n",
    "     items.append(s)\n",
    "print( \",\".join(items))"
   ]
  },
  {
   "cell_type": "code",
   "execution_count": 11,
   "metadata": {},
   "outputs": [
    {
     "name": "stdout",
     "output_type": "stream",
     "text": [
      "Enter upper limit:20\n",
      "3 4 5\n",
      "8 6 10\n",
      "5 12 13\n",
      "15 8 17\n",
      "12 16 20\n"
     ]
    }
   ],
   "source": [
    "# Python Program to Determine all Pythagorean Triplets in the Range\n",
    "\"\"\"\n",
    "4)The program takes a upper limit and determines all Pythagorean triplets till th\n",
    "\"\"\"\n",
    "# If a, b are two sides of the triangle and c is the hypotenuse, then,\n",
    "# a, b, and c can be found out using this-\n",
    "# a = m^2-n^2\n",
    "# b = 2*m*n\n",
    "# c = m^2+n^2\n",
    "limit=int(input(\"Enter upper limit:\"))\n",
    "c=0\n",
    "m=2 # pythogorean triplet starts from 3\n",
    "while(c<limit):\n",
    " for n in range(1,m+1):\n",
    "     a=m*m-n*n\n",
    "     b=2*m*n\n",
    "     c=m*m+n*n\n",
    "     if(c>limit):\n",
    "         break\n",
    "     if(a==0 or b==0 or c==0):\n",
    "         break\n",
    "     print(a,b,c)\n",
    " m=m+1"
   ]
  },
  {
   "cell_type": "code",
   "execution_count": 16,
   "metadata": {},
   "outputs": [
    {
     "name": "stdout",
     "output_type": "stream",
     "text": [
      "Enter the value of x in degrees:55\n",
      "Enter the number of terms:10\n",
      "0.82\n"
     ]
    }
   ],
   "source": [
    "# 5) Python Program to Find the Sum of Sine Series\n",
    "# sin x = x – (x^3 / 3 !) + (x^5 / 5 !) – (x^7 / 7 !) +…\n",
    "import math\n",
    "def sin(x,n):\n",
    "    sine = 0\n",
    "    for i in range(n):\n",
    "     sign = (-1)**i\n",
    "     pi=22/7\n",
    "     y=x*(pi/180)\n",
    "     sine = sine + ((y**(2*i+1))/math.factorial(2*i+1))*sign\n",
    "    return sine\n",
    "x=int(input(\"Enter the value of x in degrees:\"))\n",
    "n=int(input(\"Enter the number of terms:\"))\n",
    "print(round(sin(x,n),2))"
   ]
  },
  {
   "cell_type": "code",
   "execution_count": 17,
   "metadata": {},
   "outputs": [
    {
     "name": "stdout",
     "output_type": "stream",
     "text": [
      "Enter the value of x in degrees: 62\n",
      "Enter the number of terms: 20\n",
      "0.47\n"
     ]
    }
   ],
   "source": [
    "# 6) Python Program to Find the Sum of Cosine Series\n",
    "# cos x = 1 – (x^2 / 2 !) + (x^4 / 4 !) – (x^6 / 6 !) +…\n",
    "# x= x*(pi/180)\n",
    "import math\n",
    "def cosine(x,n):\n",
    "     cosx = 1\n",
    "     sign=-1\n",
    "     for i in range(2,n,2):\n",
    "         pi=22/7\n",
    "         y=x*(pi/180)\n",
    "         cosx = cosx + (sign*(y**i))/math.factorial(i)\n",
    "         sign=-sign\n",
    "     return cosx\n",
    "x=int(input(\"Enter the value of x in degrees: \"))\n",
    "n=int(input(\"Enter the number of terms: \"))\n",
    "print(round(cosine(x,n),2))"
   ]
  },
  {
   "cell_type": "code",
   "execution_count": 18,
   "metadata": {},
   "outputs": [
    {
     "name": "stdout",
     "output_type": "stream",
     "text": [
      "Enter the number:31456\n",
      "56\n"
     ]
    }
   ],
   "source": [
    "\"\"\"\n",
    "7) Python Program to Form an Integer that has the Number of Digits at Ten’s Place\n",
    "and the Least Significant Digit of the Entered Integer at One’s Place\n",
    "\"\"\"\n",
    "# The program takes an integer and forms a new integer which has the number of di\n",
    "# at the ten’s place and the least significant digit in the one’s place.\n",
    "# (number of digits, last digits)\n",
    "n=int(input(\"Enter the number:\"))\n",
    "tmp=n\n",
    "k=0\n",
    "temp1= len(str(n))\n",
    "temp2=str(temp1)\n",
    "temp= (str(n))\n",
    "#print(temp1)\n",
    "#print(temp[temp1-1])\n",
    "print(temp2+temp[temp1-1])"
   ]
  },
  {
   "cell_type": "code",
   "execution_count": 19,
   "metadata": {},
   "outputs": [
    {
     "name": "stdout",
     "output_type": "stream",
     "text": [
      "Enter the value of n:6\n",
      "1\n",
      "22\n",
      "333\n",
      "4444\n",
      "55555\n",
      "666666\n"
     ]
    }
   ],
   "source": [
    "\"\"\"\n",
    "8) Number pattern program\n",
    "Write a Python program to construct the following pattern for a given value of n\n",
    "1\n",
    "22\n",
    "333\n",
    "4444\n",
    "\"\"\"\n",
    "n=int(input(\"Enter the value of n:\"))\n",
    "for i in range(1,n+1):\n",
    " print(str(i)*i)"
   ]
  },
  {
   "cell_type": "code",
   "execution_count": 24,
   "metadata": {},
   "outputs": [
    {
     "name": "stdout",
     "output_type": "stream",
     "text": [
      "Name: Aravind.M\n",
      "USN: 1cr17ec031\n",
      "time.struct_time(tm_year=2020, tm_mon=5, tm_mday=14, tm_hour=17, tm_min=24, tm_sec=53, tm_wday=3, tm_yday=135, tm_isdst=0)\n"
     ]
    }
   ],
   "source": [
    "#Assignment details:\n",
    "import time\n",
    "print(\"Name: Aravind.M\",)\n",
    "print(\"USN: 1cr17ec031\",)\n",
    "print(time.localtime())"
   ]
  },
  {
   "cell_type": "code",
   "execution_count": null,
   "metadata": {},
   "outputs": [],
   "source": []
  }
 ],
 "metadata": {
  "kernelspec": {
   "display_name": "Python 3",
   "language": "python",
   "name": "python3"
  },
  "language_info": {
   "codemirror_mode": {
    "name": "ipython",
    "version": 3
   },
   "file_extension": ".py",
   "mimetype": "text/x-python",
   "name": "python",
   "nbconvert_exporter": "python",
   "pygments_lexer": "ipython3",
   "version": "3.7.1"
  }
 },
 "nbformat": 4,
 "nbformat_minor": 4
}
