{
 "cells": [
  {
   "cell_type": "code",
   "execution_count": 1,
   "metadata": {},
   "outputs": [
    {
     "name": "stdout",
     "output_type": "stream",
     "text": [
      "Enter number of elements in list: 5\n",
      "Enter elements: 2\n",
      "Enter elements: 5\n",
      "Enter elements: 4\n",
      "Enter elements: 9\n",
      "Enter elements: 5\n",
      "[2, 5, 4, 9]\n"
     ]
    }
   ],
   "source": [
    "# Python program to remove \n",
    "# duplicates from a list.\n",
    "\n",
    "lst = [] \n",
    "f_lst = []  \n",
    "# input number of elements to put in list \n",
    "num = int(input(\"Enter number of elements in list: \")) \n",
    "  \n",
    "# appending elements in list \n",
    "for i in range(1, num + 1): \n",
    "    ele = int(input(\"Enter elements: \")) \n",
    "    lst.append(ele) \n",
    "\n",
    "for j in lst:\n",
    "    if j not in f_lst:\n",
    "        f_lst.append(j)\n",
    "\n",
    "print(f_lst)"
   ]
  },
  {
   "cell_type": "code",
   "execution_count": null,
   "metadata": {},
   "outputs": [],
   "source": []
  }
 ],
 "metadata": {
  "kernelspec": {
   "display_name": "Python 3",
   "language": "python",
   "name": "python3"
  },
  "language_info": {
   "codemirror_mode": {
    "name": "ipython",
    "version": 3
   },
   "file_extension": ".py",
   "mimetype": "text/x-python",
   "name": "python",
   "nbconvert_exporter": "python",
   "pygments_lexer": "ipython3",
   "version": "3.7.1"
  }
 },
 "nbformat": 4,
 "nbformat_minor": 4
}
